{
 "cells": [
  {
   "cell_type": "code",
   "execution_count": 13,
   "metadata": {},
   "outputs": [
    {
     "name": "stdout",
     "output_type": "stream",
     "text": [
      "/glade/u/home/marsh/cesm/release_cesm2_1_3/cime/scripts/create_newcase --compset BWma1850 --res f19_g17 --case /glade/work/marsh/cesm/cases/b.e21.BWma1850.f19_g17.baseline.003\n"
     ]
    }
   ],
   "source": [
    "cime_root='/glade/u/home/marsh/cesm/release_cesm2_1_3/cime/'\n",
    "compset = 'BWma1850'\n",
    "res = 'f19_g17'\n",
    "\n",
    "cesm_dir='/glade/work/marsh/cesm/cases/'\n",
    "case_name = 'b.e21.BWma1850.f19_g17.baseline.003'\n",
    "case_dir = cesm_dir+case_name\n",
    "\n",
    "create_command = cime_root+'scripts/create_newcase --compset '+compset+' --res '+res+' --case '+case_dir\n",
    "\n",
    "print(create_command)"
   ]
  },
  {
   "cell_type": "code",
   "execution_count": null,
   "metadata": {},
   "outputs": [],
   "source": [
    "%%bash -s \"$create_command\"\n",
    "ssh cheyenne $1 "
   ]
  },
  {
   "cell_type": "code",
   "execution_count": null,
   "metadata": {},
   "outputs": [],
   "source": [
    "%%bash -s \"$case_dir\"\n",
    "ssh cheyenne \"cd $1 ; ./case.setup\""
   ]
  },
  {
   "cell_type": "code",
   "execution_count": null,
   "metadata": {},
   "outputs": [],
   "source": [
    "%%bash -s \"$case_dir\"\n",
    "ssh cheyenne \"cd $1 ; ./preview_run\""
   ]
  }
 ],
 "metadata": {
  "kernelspec": {
   "display_name": "CMIP6 2019.10",
   "language": "python",
   "name": "cmip6-201910"
  },
  "language_info": {
   "codemirror_mode": {
    "name": "ipython",
    "version": 3
   },
   "file_extension": ".py",
   "mimetype": "text/x-python",
   "name": "python",
   "nbconvert_exporter": "python",
   "pygments_lexer": "ipython3",
   "version": "3.7.8"
  }
 },
 "nbformat": 4,
 "nbformat_minor": 4
}
