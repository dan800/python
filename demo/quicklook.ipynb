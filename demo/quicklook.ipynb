{
 "cells": [
  {
   "cell_type": "code",
   "execution_count": 1,
   "metadata": {},
   "outputs": [],
   "source": [
    "# A simple notebook to quickly look at fields in a WACCM history file\n",
    "# /glade/u/home/marsh/demo/quicklook.ipynb\n",
    "# created: 18 Sep 2020 (drm)\n",
    "\n",
    "# This notebook creates a widget that allows for quick inspection of the fields \n",
    "# in a CESM history file. It reads in the fields and presents them in a drop down menu.\n",
    "# When a field is selected it creates a plot if the field is lat/lon or lat/lon/lev.  \n",
    "# Options exist to plot a slice in latitude and longitude or latitude height at fixed \n",
    "# longitude or a zonal mean\n",
    "\n",
    "import matplotlib.pyplot as plt\n",
    "import numpy as np\n",
    "import xarray as xr\n",
    "from ipywidgets import interactive\n",
    "\n",
    "# open the WACCM netcdf file using xarray\n",
    "\n",
    "data_dir = '/glade/u/home/marsh/demo/sample_data/'\n",
    "waccm_file = 'b.e21.BWma1850.f19_g17.CMIP6-piControl-WACCM-MA-2deg.001.cam.h0.0300-12.nc'\n",
    "ds = xr.open_dataset(data_dir+waccm_file)\n",
    "\n",
    "# determine the size of the fields\n",
    "ntime = ds['time'].size\n",
    "nlon = ds['lon'].size\n",
    "nlev = ds['lev'].size"
   ]
  },
  {
   "cell_type": "code",
   "execution_count": 2,
   "metadata": {},
   "outputs": [],
   "source": [
    "# a function to create a contour plot up to a specified log pressure level\n",
    "\n",
    "def plt_yz(a, logtop):\n",
    "    a.where(ds.coords[\"lev\"] > 10**logtop).plot.pcolormesh()\n",
    "    ax = plt.gca()\n",
    "    ax.set_ylim([1000,10**logtop])\n",
    "    ax.set_yscale('log')\n",
    "    ax.set_ylabel('Pressure (hPa)')\n",
    "    \n",
    "    return\n",
    "    "
   ]
  },
  {
   "cell_type": "code",
   "execution_count": 3,
   "metadata": {},
   "outputs": [
    {
     "data": {
      "application/vnd.jupyter.widget-view+json": {
       "model_id": "9b00367deaf04c868be536dc0a80ea3c",
       "version_major": 2,
       "version_minor": 0
      },
      "text/plain": [
       "interactive(children=(Dropdown(description='field', options=('gw', 'zlon_bnds', 'hyam', 'hybm', 'P0', 'hyai', …"
      ]
     },
     "metadata": {},
     "output_type": "display_data"
    }
   ],
   "source": [
    "# a function that responds to widget selections by changing the plot\n",
    "\n",
    "def plt_field(field, time_index, level, lon_index, plot_type, logtop):\n",
    "    plt.figure(figsize=(12,8))\n",
    "    \n",
    "    var = ds[field]\n",
    "    \n",
    "    if (var.dims == ('time','lev', 'lat', 'lon')):\n",
    "        \n",
    "        var1 = var.isel(time=time_index)\n",
    "        \n",
    "        if (plot_type == 'lon-lat'):\n",
    "            var1[level,:,:].plot.imshow()\n",
    "        elif (plot_type == 'zonal mean'):\n",
    "            a = var1.mean(dim='lon')\n",
    "            plt_yz(a, logtop)\n",
    "        elif (plot_type == 'fixed lon'):\n",
    "            a = var1[:,:,lon_index]\n",
    "            plt_yz(a, logtop)\n",
    "    elif (var.dims == ('time', 'lat', 'lon')):\n",
    "        var[time_index,:,:].plot.imshow()\n",
    "    else:\n",
    "        plt.scatter((0,360),(-90,90))\n",
    "        plt.text(180, 0, 'select a 2-D or 3-D field', horizontalalignment='center')\n",
    "    \n",
    "    plt.show()\n",
    "    \n",
    "    return\n",
    "\n",
    "# create the widget options: field, time, level, longitude, plot type and extent\n",
    "\n",
    "w = interactive(plt_field, field=ds.data_vars.keys(), \n",
    "          time_index = (0,ntime-1,1),\n",
    "          level=(0,nlev-1,1),\n",
    "          lon_index = (0,nlon-1,1),\n",
    "          plot_type=['lon-lat', 'zonal mean', 'fixed lon'], \n",
    "          logtop=(-5,2,0.5))\n",
    "\n",
    "# display the widget\n",
    "\n",
    "output = w.children[-1]\n",
    "output.layout.height = '500px'\n",
    "display(w)"
   ]
  },
  {
   "cell_type": "code",
   "execution_count": null,
   "metadata": {},
   "outputs": [],
   "source": []
  }
 ],
 "metadata": {
  "kernelspec": {
   "display_name": "CMIP6 2019.10a",
   "language": "python",
   "name": "cmip6-201910a"
  },
  "language_info": {
   "codemirror_mode": {
    "name": "ipython",
    "version": 3
   },
   "file_extension": ".py",
   "mimetype": "text/x-python",
   "name": "python",
   "nbconvert_exporter": "python",
   "pygments_lexer": "ipython3",
   "version": "3.7.3"
  }
 },
 "nbformat": 4,
 "nbformat_minor": 4
}
